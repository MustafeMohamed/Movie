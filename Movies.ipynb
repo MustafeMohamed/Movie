{
 "cells": [
  {
   "cell_type": "code",
   "execution_count": 1,
   "id": "warming-seventh",
   "metadata": {},
   "outputs": [],
   "source": [
    "import numpy as np\n",
    "import pandas as pd\n",
    "import matplotlib.pyplot as plt\n",
    "%matplotlib inline\n",
    "import cpi\n",
    "cpi.update()"
   ]
  },
  {
   "cell_type": "code",
   "execution_count": 2,
   "id": "eight-missile",
   "metadata": {
    "scrolled": false
   },
   "outputs": [
    {
     "data": {
      "text/html": [
       "<div>\n",
       "<style scoped>\n",
       "    .dataframe tbody tr th:only-of-type {\n",
       "        vertical-align: middle;\n",
       "    }\n",
       "\n",
       "    .dataframe tbody tr th {\n",
       "        vertical-align: top;\n",
       "    }\n",
       "\n",
       "    .dataframe thead th {\n",
       "        text-align: right;\n",
       "    }\n",
       "</style>\n",
       "<table border=\"1\" class=\"dataframe\">\n",
       "  <thead>\n",
       "    <tr style=\"text-align: right;\">\n",
       "      <th></th>\n",
       "      <th>budget</th>\n",
       "      <th>company</th>\n",
       "      <th>country</th>\n",
       "      <th>director</th>\n",
       "      <th>genre</th>\n",
       "      <th>gross</th>\n",
       "      <th>name</th>\n",
       "      <th>rating</th>\n",
       "      <th>released</th>\n",
       "      <th>runtime</th>\n",
       "      <th>score</th>\n",
       "      <th>star</th>\n",
       "      <th>votes</th>\n",
       "      <th>writer</th>\n",
       "      <th>year</th>\n",
       "    </tr>\n",
       "  </thead>\n",
       "  <tbody>\n",
       "    <tr>\n",
       "      <th>0</th>\n",
       "      <td>8000000.0</td>\n",
       "      <td>Columbia Pictures Corporation</td>\n",
       "      <td>USA</td>\n",
       "      <td>Rob Reiner</td>\n",
       "      <td>Adventure</td>\n",
       "      <td>52287414.0</td>\n",
       "      <td>Stand by Me</td>\n",
       "      <td>R</td>\n",
       "      <td>1986-08-22</td>\n",
       "      <td>89</td>\n",
       "      <td>8.1</td>\n",
       "      <td>Wil Wheaton</td>\n",
       "      <td>299174</td>\n",
       "      <td>Stephen King</td>\n",
       "      <td>1986</td>\n",
       "    </tr>\n",
       "    <tr>\n",
       "      <th>1</th>\n",
       "      <td>6000000.0</td>\n",
       "      <td>Paramount Pictures</td>\n",
       "      <td>USA</td>\n",
       "      <td>John Hughes</td>\n",
       "      <td>Comedy</td>\n",
       "      <td>70136369.0</td>\n",
       "      <td>Ferris Bueller's Day Off</td>\n",
       "      <td>PG-13</td>\n",
       "      <td>1986-06-11</td>\n",
       "      <td>103</td>\n",
       "      <td>7.8</td>\n",
       "      <td>Matthew Broderick</td>\n",
       "      <td>264740</td>\n",
       "      <td>John Hughes</td>\n",
       "      <td>1986</td>\n",
       "    </tr>\n",
       "    <tr>\n",
       "      <th>2</th>\n",
       "      <td>15000000.0</td>\n",
       "      <td>Paramount Pictures</td>\n",
       "      <td>USA</td>\n",
       "      <td>Tony Scott</td>\n",
       "      <td>Action</td>\n",
       "      <td>179800601.0</td>\n",
       "      <td>Top Gun</td>\n",
       "      <td>PG</td>\n",
       "      <td>1986-05-16</td>\n",
       "      <td>110</td>\n",
       "      <td>6.9</td>\n",
       "      <td>Tom Cruise</td>\n",
       "      <td>236909</td>\n",
       "      <td>Jim Cash</td>\n",
       "      <td>1986</td>\n",
       "    </tr>\n",
       "    <tr>\n",
       "      <th>3</th>\n",
       "      <td>18500000.0</td>\n",
       "      <td>Twentieth Century Fox Film Corporation</td>\n",
       "      <td>USA</td>\n",
       "      <td>James Cameron</td>\n",
       "      <td>Action</td>\n",
       "      <td>85160248.0</td>\n",
       "      <td>Aliens</td>\n",
       "      <td>R</td>\n",
       "      <td>1986-07-18</td>\n",
       "      <td>137</td>\n",
       "      <td>8.4</td>\n",
       "      <td>Sigourney Weaver</td>\n",
       "      <td>540152</td>\n",
       "      <td>James Cameron</td>\n",
       "      <td>1986</td>\n",
       "    </tr>\n",
       "    <tr>\n",
       "      <th>4</th>\n",
       "      <td>9000000.0</td>\n",
       "      <td>Walt Disney Pictures</td>\n",
       "      <td>USA</td>\n",
       "      <td>Randal Kleiser</td>\n",
       "      <td>Adventure</td>\n",
       "      <td>18564613.0</td>\n",
       "      <td>Flight of the Navigator</td>\n",
       "      <td>PG</td>\n",
       "      <td>1986-08-01</td>\n",
       "      <td>90</td>\n",
       "      <td>6.9</td>\n",
       "      <td>Joey Cramer</td>\n",
       "      <td>36636</td>\n",
       "      <td>Mark H. Baker</td>\n",
       "      <td>1986</td>\n",
       "    </tr>\n",
       "    <tr>\n",
       "      <th>5</th>\n",
       "      <td>6000000.0</td>\n",
       "      <td>Hemdale</td>\n",
       "      <td>UK</td>\n",
       "      <td>Oliver Stone</td>\n",
       "      <td>Drama</td>\n",
       "      <td>138530565.0</td>\n",
       "      <td>Platoon</td>\n",
       "      <td>R</td>\n",
       "      <td>1987-02-06</td>\n",
       "      <td>120</td>\n",
       "      <td>8.1</td>\n",
       "      <td>Charlie Sheen</td>\n",
       "      <td>317585</td>\n",
       "      <td>Oliver Stone</td>\n",
       "      <td>1986</td>\n",
       "    </tr>\n",
       "    <tr>\n",
       "      <th>6</th>\n",
       "      <td>25000000.0</td>\n",
       "      <td>Henson Associates (HA)</td>\n",
       "      <td>UK</td>\n",
       "      <td>Jim Henson</td>\n",
       "      <td>Adventure</td>\n",
       "      <td>12729917.0</td>\n",
       "      <td>Labyrinth</td>\n",
       "      <td>PG</td>\n",
       "      <td>1986-06-27</td>\n",
       "      <td>101</td>\n",
       "      <td>7.4</td>\n",
       "      <td>David Bowie</td>\n",
       "      <td>102879</td>\n",
       "      <td>Dennis Lee</td>\n",
       "      <td>1986</td>\n",
       "    </tr>\n",
       "    <tr>\n",
       "      <th>7</th>\n",
       "      <td>6000000.0</td>\n",
       "      <td>De Laurentiis Entertainment Group (DEG)</td>\n",
       "      <td>USA</td>\n",
       "      <td>David Lynch</td>\n",
       "      <td>Drama</td>\n",
       "      <td>8551228.0</td>\n",
       "      <td>Blue Velvet</td>\n",
       "      <td>R</td>\n",
       "      <td>1986-10-23</td>\n",
       "      <td>120</td>\n",
       "      <td>7.8</td>\n",
       "      <td>Isabella Rossellini</td>\n",
       "      <td>146768</td>\n",
       "      <td>David Lynch</td>\n",
       "      <td>1986</td>\n",
       "    </tr>\n",
       "    <tr>\n",
       "      <th>8</th>\n",
       "      <td>9000000.0</td>\n",
       "      <td>Paramount Pictures</td>\n",
       "      <td>USA</td>\n",
       "      <td>Howard Deutch</td>\n",
       "      <td>Comedy</td>\n",
       "      <td>40471663.0</td>\n",
       "      <td>Pretty in Pink</td>\n",
       "      <td>PG-13</td>\n",
       "      <td>1986-02-28</td>\n",
       "      <td>96</td>\n",
       "      <td>6.8</td>\n",
       "      <td>Molly Ringwald</td>\n",
       "      <td>60565</td>\n",
       "      <td>John Hughes</td>\n",
       "      <td>1986</td>\n",
       "    </tr>\n",
       "    <tr>\n",
       "      <th>9</th>\n",
       "      <td>15000000.0</td>\n",
       "      <td>SLM Production Group</td>\n",
       "      <td>USA</td>\n",
       "      <td>David Cronenberg</td>\n",
       "      <td>Drama</td>\n",
       "      <td>40456565.0</td>\n",
       "      <td>The Fly</td>\n",
       "      <td>R</td>\n",
       "      <td>1986-08-15</td>\n",
       "      <td>96</td>\n",
       "      <td>7.5</td>\n",
       "      <td>Jeff Goldblum</td>\n",
       "      <td>129698</td>\n",
       "      <td>George Langelaan</td>\n",
       "      <td>1986</td>\n",
       "    </tr>\n",
       "  </tbody>\n",
       "</table>\n",
       "</div>"
      ],
      "text/plain": [
       "       budget                                  company country  \\\n",
       "0   8000000.0            Columbia Pictures Corporation     USA   \n",
       "1   6000000.0                       Paramount Pictures     USA   \n",
       "2  15000000.0                       Paramount Pictures     USA   \n",
       "3  18500000.0   Twentieth Century Fox Film Corporation     USA   \n",
       "4   9000000.0                     Walt Disney Pictures     USA   \n",
       "5   6000000.0                                  Hemdale      UK   \n",
       "6  25000000.0                   Henson Associates (HA)      UK   \n",
       "7   6000000.0  De Laurentiis Entertainment Group (DEG)     USA   \n",
       "8   9000000.0                       Paramount Pictures     USA   \n",
       "9  15000000.0                     SLM Production Group     USA   \n",
       "\n",
       "           director      genre        gross                      name rating  \\\n",
       "0        Rob Reiner  Adventure   52287414.0               Stand by Me      R   \n",
       "1       John Hughes     Comedy   70136369.0  Ferris Bueller's Day Off  PG-13   \n",
       "2        Tony Scott     Action  179800601.0                   Top Gun     PG   \n",
       "3     James Cameron     Action   85160248.0                    Aliens      R   \n",
       "4    Randal Kleiser  Adventure   18564613.0   Flight of the Navigator     PG   \n",
       "5      Oliver Stone      Drama  138530565.0                   Platoon      R   \n",
       "6        Jim Henson  Adventure   12729917.0                 Labyrinth     PG   \n",
       "7       David Lynch      Drama    8551228.0               Blue Velvet      R   \n",
       "8     Howard Deutch     Comedy   40471663.0            Pretty in Pink  PG-13   \n",
       "9  David Cronenberg      Drama   40456565.0                   The Fly      R   \n",
       "\n",
       "    released  runtime  score                 star   votes            writer  \\\n",
       "0 1986-08-22       89    8.1          Wil Wheaton  299174      Stephen King   \n",
       "1 1986-06-11      103    7.8    Matthew Broderick  264740       John Hughes   \n",
       "2 1986-05-16      110    6.9           Tom Cruise  236909          Jim Cash   \n",
       "3 1986-07-18      137    8.4     Sigourney Weaver  540152     James Cameron   \n",
       "4 1986-08-01       90    6.9          Joey Cramer   36636     Mark H. Baker   \n",
       "5 1987-02-06      120    8.1        Charlie Sheen  317585      Oliver Stone   \n",
       "6 1986-06-27      101    7.4          David Bowie  102879        Dennis Lee   \n",
       "7 1986-10-23      120    7.8  Isabella Rossellini  146768       David Lynch   \n",
       "8 1986-02-28       96    6.8       Molly Ringwald   60565       John Hughes   \n",
       "9 1986-08-15       96    7.5        Jeff Goldblum  129698  George Langelaan   \n",
       "\n",
       "   year  \n",
       "0  1986  \n",
       "1  1986  \n",
       "2  1986  \n",
       "3  1986  \n",
       "4  1986  \n",
       "5  1986  \n",
       "6  1986  \n",
       "7  1986  \n",
       "8  1986  \n",
       "9  1986  "
      ]
     },
     "execution_count": 2,
     "metadata": {},
     "output_type": "execute_result"
    }
   ],
   "source": [
    "df=pd.read_csv(r\"C:\\Users\\Mustafe\\Documents\\Jupyter Stuff\\Intro\\archive\\movies.csv\",parse_dates=[\"released\"],na_values={\n",
    "    \"rating\": [\"NOT RATED\", \"UNRATED\",\"Not specified\",\"TV-14\",\"B\",\"B15\",\"TV-MA\",\"TV-PG\"],\n",
    "    \"budget\": [0]\n",
    "})\n",
    "df.head(10)"
   ]
  },
  {
   "cell_type": "code",
   "execution_count": 3,
   "id": "opponent-allocation",
   "metadata": {},
   "outputs": [
    {
     "data": {
      "text/plain": [
       "(6820, 15)"
      ]
     },
     "execution_count": 3,
     "metadata": {},
     "output_type": "execute_result"
    }
   ],
   "source": [
    "df.shape"
   ]
  },
  {
   "cell_type": "code",
   "execution_count": 4,
   "id": "available-destination",
   "metadata": {
    "scrolled": true
   },
   "outputs": [
    {
     "data": {
      "text/plain": [
       "(4638, 15)"
      ]
     },
     "execution_count": 4,
     "metadata": {},
     "output_type": "execute_result"
    }
   ],
   "source": [
    "df=df.dropna(how=\"any\",subset=[\"budget\",\"gross\"])\n",
    "df.shape"
   ]
  },
  {
   "cell_type": "code",
   "execution_count": 5,
   "id": "opening-penetration",
   "metadata": {
    "scrolled": true
   },
   "outputs": [],
   "source": [
    "df[\"Adj_budget\"]=df.apply(lambda x: cpi.inflate(x[\"budget\"],x[\"released\"].year),axis=1)"
   ]
  },
  {
   "cell_type": "code",
   "execution_count": 6,
   "id": "hidden-editor",
   "metadata": {
    "scrolled": true
   },
   "outputs": [],
   "source": [
    "df[\"Adj_gross\"]=df.apply(lambda x: cpi.inflate(x[\"gross\"],x[\"released\"].year),axis=1)"
   ]
  },
  {
   "cell_type": "code",
   "execution_count": 7,
   "id": "potential-finance",
   "metadata": {},
   "outputs": [],
   "source": [
    "df[\"Profit\"]= df[\"Adj_gross\"]-df[\"Adj_budget\"]"
   ]
  },
  {
   "cell_type": "code",
   "execution_count": 8,
   "id": "cordless-fields",
   "metadata": {
    "scrolled": false
   },
   "outputs": [
    {
     "data": {
      "text/html": [
       "<div>\n",
       "<style scoped>\n",
       "    .dataframe tbody tr th:only-of-type {\n",
       "        vertical-align: middle;\n",
       "    }\n",
       "\n",
       "    .dataframe tbody tr th {\n",
       "        vertical-align: top;\n",
       "    }\n",
       "\n",
       "    .dataframe thead th {\n",
       "        text-align: right;\n",
       "    }\n",
       "</style>\n",
       "<table border=\"1\" class=\"dataframe\">\n",
       "  <thead>\n",
       "    <tr style=\"text-align: right;\">\n",
       "      <th></th>\n",
       "      <th>budget</th>\n",
       "      <th>country</th>\n",
       "      <th>genre</th>\n",
       "      <th>gross</th>\n",
       "      <th>name</th>\n",
       "      <th>rating</th>\n",
       "      <th>released</th>\n",
       "      <th>runtime</th>\n",
       "      <th>score</th>\n",
       "      <th>votes</th>\n",
       "      <th>year</th>\n",
       "      <th>Adj_budget</th>\n",
       "      <th>Adj_gross</th>\n",
       "      <th>Profit</th>\n",
       "    </tr>\n",
       "  </thead>\n",
       "  <tbody>\n",
       "    <tr>\n",
       "      <th>0</th>\n",
       "      <td>8000000.0</td>\n",
       "      <td>USA</td>\n",
       "      <td>Adventure</td>\n",
       "      <td>52287414.0</td>\n",
       "      <td>Stand by Me</td>\n",
       "      <td>R</td>\n",
       "      <td>1986-08-22</td>\n",
       "      <td>89</td>\n",
       "      <td>8.1</td>\n",
       "      <td>299174</td>\n",
       "      <td>1986</td>\n",
       "      <td>1.889131e+07</td>\n",
       "      <td>1.234722e+08</td>\n",
       "      <td>1.045809e+08</td>\n",
       "    </tr>\n",
       "    <tr>\n",
       "      <th>1</th>\n",
       "      <td>6000000.0</td>\n",
       "      <td>USA</td>\n",
       "      <td>Comedy</td>\n",
       "      <td>70136369.0</td>\n",
       "      <td>Ferris Bueller's Day Off</td>\n",
       "      <td>PG-13</td>\n",
       "      <td>1986-06-11</td>\n",
       "      <td>103</td>\n",
       "      <td>7.8</td>\n",
       "      <td>264740</td>\n",
       "      <td>1986</td>\n",
       "      <td>1.416849e+07</td>\n",
       "      <td>1.656210e+08</td>\n",
       "      <td>1.514525e+08</td>\n",
       "    </tr>\n",
       "    <tr>\n",
       "      <th>2</th>\n",
       "      <td>15000000.0</td>\n",
       "      <td>USA</td>\n",
       "      <td>Action</td>\n",
       "      <td>179800601.0</td>\n",
       "      <td>Top Gun</td>\n",
       "      <td>PG</td>\n",
       "      <td>1986-05-16</td>\n",
       "      <td>110</td>\n",
       "      <td>6.9</td>\n",
       "      <td>236909</td>\n",
       "      <td>1986</td>\n",
       "      <td>3.542121e+07</td>\n",
       "      <td>4.245837e+08</td>\n",
       "      <td>3.891625e+08</td>\n",
       "    </tr>\n",
       "    <tr>\n",
       "      <th>3</th>\n",
       "      <td>18500000.0</td>\n",
       "      <td>USA</td>\n",
       "      <td>Action</td>\n",
       "      <td>85160248.0</td>\n",
       "      <td>Aliens</td>\n",
       "      <td>R</td>\n",
       "      <td>1986-07-18</td>\n",
       "      <td>137</td>\n",
       "      <td>8.4</td>\n",
       "      <td>540152</td>\n",
       "      <td>1986</td>\n",
       "      <td>4.368616e+07</td>\n",
       "      <td>2.010986e+08</td>\n",
       "      <td>1.574125e+08</td>\n",
       "    </tr>\n",
       "    <tr>\n",
       "      <th>4</th>\n",
       "      <td>9000000.0</td>\n",
       "      <td>USA</td>\n",
       "      <td>Adventure</td>\n",
       "      <td>18564613.0</td>\n",
       "      <td>Flight of the Navigator</td>\n",
       "      <td>PG</td>\n",
       "      <td>1986-08-01</td>\n",
       "      <td>90</td>\n",
       "      <td>6.9</td>\n",
       "      <td>36636</td>\n",
       "      <td>1986</td>\n",
       "      <td>2.125273e+07</td>\n",
       "      <td>4.383874e+07</td>\n",
       "      <td>2.258601e+07</td>\n",
       "    </tr>\n",
       "    <tr>\n",
       "      <th>...</th>\n",
       "      <td>...</td>\n",
       "      <td>...</td>\n",
       "      <td>...</td>\n",
       "      <td>...</td>\n",
       "      <td>...</td>\n",
       "      <td>...</td>\n",
       "      <td>...</td>\n",
       "      <td>...</td>\n",
       "      <td>...</td>\n",
       "      <td>...</td>\n",
       "      <td>...</td>\n",
       "      <td>...</td>\n",
       "      <td>...</td>\n",
       "      <td>...</td>\n",
       "    </tr>\n",
       "    <tr>\n",
       "      <th>6808</th>\n",
       "      <td>3000000.0</td>\n",
       "      <td>Ireland</td>\n",
       "      <td>Comedy</td>\n",
       "      <td>14013564.0</td>\n",
       "      <td>Love &amp; Friendship</td>\n",
       "      <td>PG</td>\n",
       "      <td>2016-06-03</td>\n",
       "      <td>90</td>\n",
       "      <td>6.5</td>\n",
       "      <td>17862</td>\n",
       "      <td>2016</td>\n",
       "      <td>3.235043e+06</td>\n",
       "      <td>1.511149e+07</td>\n",
       "      <td>1.187645e+07</td>\n",
       "    </tr>\n",
       "    <tr>\n",
       "      <th>6809</th>\n",
       "      <td>3800000.0</td>\n",
       "      <td>USA</td>\n",
       "      <td>Comedy</td>\n",
       "      <td>1016872.0</td>\n",
       "      <td>The Hollars</td>\n",
       "      <td>PG-13</td>\n",
       "      <td>2016-08-26</td>\n",
       "      <td>88</td>\n",
       "      <td>6.5</td>\n",
       "      <td>7227</td>\n",
       "      <td>2016</td>\n",
       "      <td>4.097721e+06</td>\n",
       "      <td>1.096542e+06</td>\n",
       "      <td>-3.001180e+06</td>\n",
       "    </tr>\n",
       "    <tr>\n",
       "      <th>6811</th>\n",
       "      <td>8500000.0</td>\n",
       "      <td>USA</td>\n",
       "      <td>Animation</td>\n",
       "      <td>19985196.0</td>\n",
       "      <td>Middle School: The Worst Years of My Life</td>\n",
       "      <td>PG</td>\n",
       "      <td>2016-10-07</td>\n",
       "      <td>92</td>\n",
       "      <td>6.1</td>\n",
       "      <td>4556</td>\n",
       "      <td>2016</td>\n",
       "      <td>9.165956e+06</td>\n",
       "      <td>2.155099e+07</td>\n",
       "      <td>1.238503e+07</td>\n",
       "    </tr>\n",
       "    <tr>\n",
       "      <th>6814</th>\n",
       "      <td>20000000.0</td>\n",
       "      <td>USA</td>\n",
       "      <td>Action</td>\n",
       "      <td>36874745.0</td>\n",
       "      <td>Risen</td>\n",
       "      <td>PG-13</td>\n",
       "      <td>2016-02-19</td>\n",
       "      <td>107</td>\n",
       "      <td>6.3</td>\n",
       "      <td>19084</td>\n",
       "      <td>2016</td>\n",
       "      <td>2.156695e+07</td>\n",
       "      <td>3.976380e+07</td>\n",
       "      <td>1.819684e+07</td>\n",
       "    </tr>\n",
       "    <tr>\n",
       "      <th>6817</th>\n",
       "      <td>3500000.0</td>\n",
       "      <td>USA</td>\n",
       "      <td>Animation</td>\n",
       "      <td>3775000.0</td>\n",
       "      <td>Batman: The Killing Joke</td>\n",
       "      <td>R</td>\n",
       "      <td>2016-07-25</td>\n",
       "      <td>76</td>\n",
       "      <td>6.5</td>\n",
       "      <td>36333</td>\n",
       "      <td>2016</td>\n",
       "      <td>3.774217e+06</td>\n",
       "      <td>4.070763e+06</td>\n",
       "      <td>2.965456e+05</td>\n",
       "    </tr>\n",
       "  </tbody>\n",
       "</table>\n",
       "<p>4638 rows × 14 columns</p>\n",
       "</div>"
      ],
      "text/plain": [
       "          budget  country      genre        gross  \\\n",
       "0      8000000.0      USA  Adventure   52287414.0   \n",
       "1      6000000.0      USA     Comedy   70136369.0   \n",
       "2     15000000.0      USA     Action  179800601.0   \n",
       "3     18500000.0      USA     Action   85160248.0   \n",
       "4      9000000.0      USA  Adventure   18564613.0   \n",
       "...          ...      ...        ...          ...   \n",
       "6808   3000000.0  Ireland     Comedy   14013564.0   \n",
       "6809   3800000.0      USA     Comedy    1016872.0   \n",
       "6811   8500000.0      USA  Animation   19985196.0   \n",
       "6814  20000000.0      USA     Action   36874745.0   \n",
       "6817   3500000.0      USA  Animation    3775000.0   \n",
       "\n",
       "                                           name rating   released  runtime  \\\n",
       "0                                   Stand by Me      R 1986-08-22       89   \n",
       "1                      Ferris Bueller's Day Off  PG-13 1986-06-11      103   \n",
       "2                                       Top Gun     PG 1986-05-16      110   \n",
       "3                                        Aliens      R 1986-07-18      137   \n",
       "4                       Flight of the Navigator     PG 1986-08-01       90   \n",
       "...                                         ...    ...        ...      ...   \n",
       "6808                          Love & Friendship     PG 2016-06-03       90   \n",
       "6809                                The Hollars  PG-13 2016-08-26       88   \n",
       "6811  Middle School: The Worst Years of My Life     PG 2016-10-07       92   \n",
       "6814                                      Risen  PG-13 2016-02-19      107   \n",
       "6817                   Batman: The Killing Joke      R 2016-07-25       76   \n",
       "\n",
       "      score   votes  year    Adj_budget     Adj_gross        Profit  \n",
       "0       8.1  299174  1986  1.889131e+07  1.234722e+08  1.045809e+08  \n",
       "1       7.8  264740  1986  1.416849e+07  1.656210e+08  1.514525e+08  \n",
       "2       6.9  236909  1986  3.542121e+07  4.245837e+08  3.891625e+08  \n",
       "3       8.4  540152  1986  4.368616e+07  2.010986e+08  1.574125e+08  \n",
       "4       6.9   36636  1986  2.125273e+07  4.383874e+07  2.258601e+07  \n",
       "...     ...     ...   ...           ...           ...           ...  \n",
       "6808    6.5   17862  2016  3.235043e+06  1.511149e+07  1.187645e+07  \n",
       "6809    6.5    7227  2016  4.097721e+06  1.096542e+06 -3.001180e+06  \n",
       "6811    6.1    4556  2016  9.165956e+06  2.155099e+07  1.238503e+07  \n",
       "6814    6.3   19084  2016  2.156695e+07  3.976380e+07  1.819684e+07  \n",
       "6817    6.5   36333  2016  3.774217e+06  4.070763e+06  2.965456e+05  \n",
       "\n",
       "[4638 rows x 14 columns]"
      ]
     },
     "execution_count": 8,
     "metadata": {},
     "output_type": "execute_result"
    }
   ],
   "source": [
    "df.drop([\"director\",\"star\",\"writer\",\"company\"],axis=1)"
   ]
  },
  {
   "cell_type": "markdown",
   "id": "portable-belarus",
   "metadata": {},
   "source": [
    "A look into which genre generates the greatest average profit. "
   ]
  },
  {
   "cell_type": "code",
   "execution_count": 105,
   "id": "scheduled-messenger",
   "metadata": {},
   "outputs": [],
   "source": [
    "g=df.groupby(\"genre\")"
   ]
  },
  {
   "cell_type": "code",
   "execution_count": 106,
   "id": "specialized-catch",
   "metadata": {},
   "outputs": [
    {
     "name": "stdout",
     "output_type": "stream",
     "text": [
      "Action\n",
      "1099\n",
      "Adventure\n",
      "291\n",
      "Animation\n",
      "229\n",
      "Biography\n",
      "239\n",
      "Comedy\n",
      "1310\n",
      "Crime\n",
      "356\n",
      "Drama\n",
      "793\n",
      "Family\n",
      "6\n",
      "Fantasy\n",
      "29\n",
      "Horror\n",
      "228\n",
      "Musical\n",
      "1\n",
      "Mystery\n",
      "31\n",
      "Romance\n",
      "5\n",
      "Sci-Fi\n",
      "11\n",
      "Thriller\n",
      "8\n",
      "Western\n",
      "2\n"
     ]
    }
   ],
   "source": [
    "for genre,genre_df in g:\n",
    "    print(genre)\n",
    "    print(len(genre_df))"
   ]
  },
  {
   "cell_type": "code",
   "execution_count": 11,
   "id": "published-wealth",
   "metadata": {},
   "outputs": [],
   "source": [
    "avg_profit = []\n",
    "for genre,genre_df in g:\n",
    "    if len(genre_df) > 10:\n",
    "        avg_profit.append(genre_df[\"Profit\"].sum()/len(genre_df))"
   ]
  },
  {
   "cell_type": "code",
   "execution_count": 86,
   "id": "overhead-mouse",
   "metadata": {
    "scrolled": true
   },
   "outputs": [],
   "source": [
    "genre_profit_labels=[\"Action\",\"Adventure\",\"Animation\",\"Biography\",\"Comedy\",\"Crime\",\"Drama\",\"Fantasy\",\"Horror\",\"Mystery\",\"Sci-Fi\"]"
   ]
  },
  {
   "cell_type": "code",
   "execution_count": 87,
   "id": "baking-thanksgiving",
   "metadata": {
    "scrolled": true
   },
   "outputs": [
    {
     "data": {
      "text/plain": [
       "<BarContainer object of 11 artists>"
      ]
     },
     "execution_count": 87,
     "metadata": {},
     "output_type": "execute_result"
    },
    {
     "data": {
      "image/png": "[encoded data removed]",
      "text/plain": [
       "<Figure size 432x288 with 1 Axes>"
      ]
     },
     "metadata": {
      "needs_background": "light"
     },
     "output_type": "display_data"
    }
   ],
   "source": [
    "plt.xlabel(\"Average profit($)\")\n",
    "plt.ylabel(\"Genre\")\n",
    "plt.title(\"Average profit by genre\")\n",
    "plt.barh(genre_profit_labels,avg_profit,color=\"royalblue\")"
   ]
  },
  {
   "cell_type": "code",
   "execution_count": 57,
   "id": "american-phase",
   "metadata": {
    "scrolled": true
   },
   "outputs": [
    {
     "data": {
      "text/plain": [
       "count    4.638000e+03\n",
       "mean     1.454050e+07\n",
       "std      6.823788e+07\n",
       "min     -1.994361e+08\n",
       "25%     -1.632214e+07\n",
       "50%     -4.717840e+05\n",
       "75%      2.798915e+07\n",
       "max      7.552614e+08\n",
       "Name: Profit, dtype: float64"
      ]
     },
     "execution_count": 57,
     "metadata": {},
     "output_type": "execute_result"
    }
   ],
   "source": [
    "df[\"Profit\"].describe()"
   ]
  },
  {
   "cell_type": "code",
   "execution_count": 61,
   "id": "perceived-monster",
   "metadata": {},
   "outputs": [
    {
     "data": {
      "text/plain": [
       "4.692951572241206"
      ]
     },
     "execution_count": 61,
     "metadata": {},
     "output_type": "execute_result"
    }
   ],
   "source": [
    "CV= df[\"Profit\"].std()/df[\"Profit\"].mean()\n",
    "CV"
   ]
  },
  {
   "cell_type": "markdown",
   "id": "speaking-carpet",
   "metadata": {},
   "source": [
    "The information gained from the describe of the profit column is quite telling with the standerd deviation being comparatively quite high and hence showing a very large spread of data. This is an expected result as it shows the volatilty of the movie industry and multiple different factors but it makes it more difficult to predict future success based on the data. The CV which is the coefficient of variance is very high and demonstrates this. An interesting consideration could be analysing whether the CV of variance is markedly difference for different genre of movie. "
   ]
  },
  {
   "cell_type": "code",
   "execution_count": 100,
   "id": "joint-anthony",
   "metadata": {},
   "outputs": [],
   "source": [
    "CV_data=[]\n",
    "for genre,genre_df in g:\n",
    "    if len(genre_df) > 10:\n",
    "        CV_data.append(genre_df[\"Profit\"].std()/genre_df[\"Profit\"].mean())"
   ]
  },
  {
   "cell_type": "code",
   "execution_count": 101,
   "id": "sustainable-encounter",
   "metadata": {
    "scrolled": true
   },
   "outputs": [],
   "source": [
    "CV_labels=[\"Action\",\"Adventure\",\"Animation\",\"Biography\",\"Comedy\",\"Crime\",\"Drama\",\"Fantasy\",\"Horror\",\"Mystery\",\"Sci-Fi\"]"
   ]
  },
  {
   "cell_type": "code",
   "execution_count": 102,
   "id": "latter-haven",
   "metadata": {
    "scrolled": true
   },
   "outputs": [
    {
     "data": {
      "text/plain": [
       "<BarContainer object of 11 artists>"
      ]
     },
     "execution_count": 102,
     "metadata": {},
     "output_type": "execute_result"
    },
    {
     "data": {
      "image/png": "[encoded data removed]",
      "text/plain": [
       "<Figure size 432x288 with 1 Axes>"
      ]
     },
     "metadata": {
      "needs_background": "light"
     },
     "output_type": "display_data"
    }
   ],
   "source": [
    "plt.xlabel(\"Coefficient of Variance(CV)\")\n",
    "plt.ylabel(\"Genre\")\n",
    "plt.title(\"CV of diffrent genres\")\n",
    "plt.barh(CV_labels,CV_data,color=\"deeppink\")"
   ]
  },
  {
   "cell_type": "markdown",
   "id": "latin-lingerie",
   "metadata": {},
   "source": [
    "This suggests the spread of animation and horror movies is much lower than drama and crime movies. This could be an important clue in predicting future box-office perfomance. Combined with the highest average profit, Animation movies are seeming increasingly attractive. Another possible method to analyse perfomance could be a Return of Investment, where we now consider the profit relative to the initial investment. "
   ]
  },
  {
   "cell_type": "code",
   "execution_count": 103,
   "id": "complimentary-inside",
   "metadata": {},
   "outputs": [],
   "source": [
    "df[\"ROI\"]=df[\"Profit\"]/df[\"Adj_budget\"]"
   ]
  },
  {
   "cell_type": "code",
   "execution_count": 107,
   "id": "stylish-accordance",
   "metadata": {},
   "outputs": [],
   "source": [
    "avg_ROI = []\n",
    "for genre,genre_df in g:\n",
    "    if len(genre_df) > 10:\n",
    "        avg_ROI.append(genre_df[\"ROI\"].sum()/len(genre_df))"
   ]
  },
  {
   "cell_type": "code",
   "execution_count": 109,
   "id": "annoying-isolation",
   "metadata": {},
   "outputs": [],
   "source": [
    "ROI_labels=[\"Action\",\"Adventure\",\"Animation\",\"Biography\",\"Comedy\",\"Crime\",\"Drama\",\"Fantasy\",\"Horror\",\"Mystery\",\"Sci-Fi\"]"
   ]
  },
  {
   "cell_type": "code",
   "execution_count": 110,
   "id": "chemical-sleeping",
   "metadata": {
    "scrolled": false
   },
   "outputs": [
    {
     "data": {
      "text/plain": [
       "<BarContainer object of 11 artists>"
      ]
     },
     "execution_count": 110,
     "metadata": {},
     "output_type": "execute_result"
    },
    {
     "data": {
      "image/png": "[encoded data removed]",
      "text/plain": [
       "<Figure size 432x288 with 1 Axes>"
      ]
     },
     "metadata": {
      "needs_background": "light"
     },
     "output_type": "display_data"
    }
   ],
   "source": [
    "plt.xlabel(\"AVG ROI\")\n",
    "plt.ylabel(\"Genre\")\n",
    "plt.title(\"Avg ROI of diffrent genres\")\n",
    "plt.barh(ROI_labels,avg_ROI,color=\"lightseagreen\")"
   ]
  },
  {
   "cell_type": "markdown",
   "id": "manufactured-handle",
   "metadata": {},
   "source": [
    "The horror movie genre quite easily trumps this category due to its typically low budgets and high turnaround. In particular famous examples such as the Blair Witch Project & Paranormal Activity generated profits multiple times their initial outlay. To better picture the ROI values of the other genres I have redone the bar chart without horror in it.  "
   ]
  },
  {
   "cell_type": "code",
   "execution_count": 112,
   "id": "unexpected-witch",
   "metadata": {},
   "outputs": [],
   "source": [
    "new_ROI=[]\n",
    "for val in avg_ROI:\n",
    "    if val < 10:\n",
    "        new_ROI.append(val)"
   ]
  },
  {
   "cell_type": "code",
   "execution_count": 117,
   "id": "norman-vision",
   "metadata": {},
   "outputs": [],
   "source": [
    "new_ROI_labels=[\"Action\",\"Adventure\",\"Animation\",\"Biography\",\"Comedy\",\"Crime\",\"Drama\",\"Fantasy\",\"Mystery\",\"Sci-Fi\"]"
   ]
  },
  {
   "cell_type": "code",
   "execution_count": 118,
   "id": "historical-thunder",
   "metadata": {},
   "outputs": [
    {
     "data": {
      "text/plain": [
       "<BarContainer object of 10 artists>"
      ]
     },
     "execution_count": 118,
     "metadata": {},
     "output_type": "execute_result"
    },
    {
     "data": {
      "image/png": "[encoded data removed]",
      "text/plain": [
       "<Figure size 432x288 with 1 Axes>"
      ]
     },
     "metadata": {
      "needs_background": "light"
     },
     "output_type": "display_data"
    }
   ],
   "source": [
    "plt.xlabel(\"AVG ROI\")\n",
    "plt.ylabel(\"Genre\")\n",
    "plt.title(\"Avg ROI of diffrent genres\")\n",
    "plt.barh(new_ROI_labels,new_ROI,color=\"lightseagreen\")"
   ]
  },
  {
   "cell_type": "markdown",
   "id": "executive-carnival",
   "metadata": {},
   "source": [
    "Movie-Rating Analysis"
   ]
  },
  {
   "cell_type": "code",
   "execution_count": 39,
   "id": "smooth-progressive",
   "metadata": {},
   "outputs": [],
   "source": [
    "rating_count=list(df[\"rating\"].value_counts())"
   ]
  },
  {
   "cell_type": "code",
   "execution_count": 40,
   "id": "prospective-champagne",
   "metadata": {},
   "outputs": [],
   "source": [
    "rating_labels=[\"R\",\"PG-13\",\"PG\",\"G\",\"NC-17\"]"
   ]
  },
  {
   "cell_type": "code",
   "execution_count": 55,
   "id": "separated-grant",
   "metadata": {},
   "outputs": [
    {
     "data": {
      "image/png": "[encoded data removed]",
      "text/plain": [
       "<Figure size 432x288 with 1 Axes>"
      ]
     },
     "metadata": {},
     "output_type": "display_data"
    }
   ],
   "source": [
    "plt.axis(\"equal\")\n",
    "plt.pie(rating_count,labels=rating_labels,radius=1.5,autopct=\"%0.01f%%\",startangle=180)\n",
    "plt.show()"
   ]
  },
  {
   "cell_type": "code",
   "execution_count": null,
   "id": "aggressive-prophet",
   "metadata": {},
   "outputs": [],
   "source": []
  },
  {
   "cell_type": "code",
   "execution_count": null,
   "id": "miniature-market",
   "metadata": {},
   "outputs": [],
   "source": []
  },
  {
   "cell_type": "code",
   "execution_count": null,
   "id": "practical-classroom",
   "metadata": {},
   "outputs": [],
   "source": []
  },
  {
   "cell_type": "code",
   "execution_count": null,
   "id": "featured-photographer",
   "metadata": {},
   "outputs": [],
   "source": []
  },
  {
   "cell_type": "code",
   "execution_count": null,
   "id": "sophisticated-doctrine",
   "metadata": {},
   "outputs": [],
   "source": []
  },
  {
   "cell_type": "code",
   "execution_count": null,
   "id": "underlying-canadian",
   "metadata": {},
   "outputs": [],
   "source": []
  },
  {
   "cell_type": "code",
   "execution_count": null,
   "id": "capable-plate",
   "metadata": {},
   "outputs": [],
   "source": []
  },
  {
   "cell_type": "code",
   "execution_count": null,
   "id": "statewide-bolivia",
   "metadata": {},
   "outputs": [],
   "source": []
  },
  {
   "cell_type": "code",
   "execution_count": null,
   "id": "burning-binary",
   "metadata": {},
   "outputs": [],
   "source": []
  },
  {
   "cell_type": "code",
   "execution_count": null,
   "id": "freelance-journalist",
   "metadata": {},
   "outputs": [],
   "source": []
  },
  {
   "cell_type": "code",
   "execution_count": null,
   "id": "raised-expansion",
   "metadata": {},
   "outputs": [],
   "source": []
  },
  {
   "cell_type": "code",
   "execution_count": null,
   "id": "little-jimmy",
   "metadata": {},
   "outputs": [],
   "source": []
  },
  {
   "cell_type": "code",
   "execution_count": null,
   "id": "foreign-spain",
   "metadata": {},
   "outputs": [],
   "source": []
  },
  {
   "cell_type": "code",
   "execution_count": null,
   "id": "capital-pregnancy",
   "metadata": {},
   "outputs": [],
   "source": []
  },
  {
   "cell_type": "code",
   "execution_count": null,
   "id": "starting-wilson",
   "metadata": {},
   "outputs": [],
   "source": []
  },
  {
   "cell_type": "code",
   "execution_count": null,
   "id": "sufficient-maldives",
   "metadata": {},
   "outputs": [],
   "source": []
  },
  {
   "cell_type": "code",
   "execution_count": null,
   "id": "medieval-gamma",
   "metadata": {},
   "outputs": [],
   "source": []
  },
  {
   "cell_type": "code",
   "execution_count": null,
   "id": "pediatric-linux",
   "metadata": {},
   "outputs": [],
   "source": []
  },
  {
   "cell_type": "code",
   "execution_count": null,
   "id": "unsigned-harrison",
   "metadata": {},
   "outputs": [],
   "source": []
  },
  {
   "cell_type": "code",
   "execution_count": null,
   "id": "desperate-wellington",
   "metadata": {},
   "outputs": [],
   "source": []
  },
  {
   "cell_type": "code",
   "execution_count": null,
   "id": "native-civilization",
   "metadata": {},
   "outputs": [],
   "source": []
  },
  {
   "cell_type": "code",
   "execution_count": null,
   "id": "about-check",
   "metadata": {},
   "outputs": [],
   "source": []
  },
  {
   "cell_type": "code",
   "execution_count": null,
   "id": "silent-municipality",
   "metadata": {},
   "outputs": [],
   "source": []
  },
  {
   "cell_type": "code",
   "execution_count": null,
   "id": "infectious-engagement",
   "metadata": {},
   "outputs": [],
   "source": []
  },
  {
   "cell_type": "code",
   "execution_count": null,
   "id": "assisted-association",
   "metadata": {},
   "outputs": [],
   "source": []
  },
  {
   "cell_type": "code",
   "execution_count": 8,
   "id": "laughing-purse",
   "metadata": {},
   "outputs": [],
   "source": []
  },
  {
   "cell_type": "code",
   "execution_count": 9,
   "id": "romantic-manufacturer",
   "metadata": {},
   "outputs": [
    {
     "data": {
      "text/plain": [
       "761208823.5294118"
      ]
     },
     "execution_count": 9,
     "metadata": {},
     "output_type": "execute_result"
    }
   ],
   "source": []
  },
  {
   "cell_type": "markdown",
   "id": "theoretical-revision",
   "metadata": {},
   "source": []
  }
 ],
 "metadata": {
  "kernelspec": {
   "display_name": "Python 3",
   "language": "python",
   "name": "python3"
  },
  "language_info": {
   "codemirror_mode": {
    "name": "ipython",
    "version": 3
   },
   "file_extension": ".py",
   "mimetype": "text/x-python",
   "name": "python",
   "nbconvert_exporter": "python",
   "pygments_lexer": "ipython3",
   "version": "3.9.1"
  }
 },
 "nbformat": 4,
 "nbformat_minor": 5
}
